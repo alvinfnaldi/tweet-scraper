{
 "cells": [
  {
   "attachments": {},
   "cell_type": "markdown",
   "metadata": {},
   "source": [
    "<h4>Install Module & Import Library</h4>"
   ]
  },
  {
   "cell_type": "code",
   "execution_count": null,
   "metadata": {},
   "outputs": [],
   "source": [
    "%pip install snscrape\n",
    "%pip install pandas\n",
    "%pip install textblob\n",
    "%pip install openpyxl\n",
    "%pip install git+https://github.com/JustAnotherArchivist/snscrape.git"
   ]
  },
  {
   "cell_type": "code",
   "execution_count": null,
   "metadata": {},
   "outputs": [],
   "source": [
    "import snscrape.modules.twitter as sntwitter\n",
    "import pandas as pd"
   ]
  },
  {
   "attachments": {},
   "cell_type": "markdown",
   "metadata": {},
   "source": [
    "<h4>Custom Query Search</h4>"
   ]
  },
  {
   "cell_type": "code",
   "execution_count": null,
   "metadata": {},
   "outputs": [],
   "source": [
    "since = 'since:2022-07-09' #start date\n",
    "until = 'until:2022-07-12' #end date\n",
    "\n",
    "#just remove until & since for getting recent tweet\n",
    "query1 = f'the boyz lang:id {since} {until}' #search tweet with optional language and range time\n",
    "query2 = f'(from:we_the_boyz) {since} {until}' #search tweet from specified username\n",
    "\n",
    "tweet_list = []\n",
    "for max_limit, tweet in enumerate(sntwitter.TwitterSearchScraper(query2).get_items()): #add query to parameter, choose between query1 or query2\n",
    "    if max_limit == 10: #max limit tweet\n",
    "        break\n",
    "    link_source = \"https://twitter.com/\"+tweet.user.username+\"/status/\"+str(tweet.id) #combine url with username & id to get tweet link\n",
    "    tweet_list.append([tweet.date, link_source, tweet.rawContent, tweet.user.username, tweet.replyCount, tweet.retweetCount, tweet.quoteCount, tweet.likeCount])\n",
    "tweet = pd.DataFrame(tweet_list, columns = ['Datetime', 'Source', 'Tweet', 'Username', 'Reply', 'Retweet', 'Quote', 'Like'])\n",
    "tweet"
   ]
  },
  {
   "attachments": {},
   "cell_type": "markdown",
   "metadata": {},
   "source": [
    "<h4>Optional</h4>"
   ]
  },
  {
   "cell_type": "code",
   "execution_count": null,
   "metadata": {},
   "outputs": [],
   "source": [
    "#for just fix index start from 1 and manipulate default datetime format\n",
    "tweet.index = tweet.index + 1\n",
    "from datetime import datetime, timedelta\n",
    "\n",
    "tweet['Datetime'] = tweet['Datetime'].dt.tz_localize(None)\n",
    "tweet['Datetime'] = tweet['Datetime'] + timedelta(hours=7) #live in GMT+7 so set hours to 7\n",
    "tweet['Datetime'] = tweet['Datetime'].dt.strftime(\"%d-%m-%Y\"\" %H:%M:%S\")\n",
    "tweet"
   ]
  },
  {
   "attachments": {},
   "cell_type": "markdown",
   "metadata": {},
   "source": [
    "<h4>Set Filename For Title Output</h4>"
   ]
  },
  {
   "cell_type": "code",
   "execution_count": null,
   "metadata": {},
   "outputs": [],
   "source": [
    "filename = \"TBZ\" #fill your filename\n",
    "date = datetime.today()\n",
    "current = date.strftime(\"%d-%m-%Y\"\"_%H-%M-%S\")"
   ]
  },
  {
   "attachments": {},
   "cell_type": "markdown",
   "metadata": {},
   "source": [
    "<h4>HTML Output</h4>"
   ]
  },
  {
   "cell_type": "code",
   "execution_count": null,
   "metadata": {},
   "outputs": [],
   "source": [
    "#easy to access & more readable output\n",
    "tweet.to_html(filename+'_'+current+'.html', render_links=True) #for access actual tweet link in browser\n",
    "filename+'_'+current+'.html has been saved'"
   ]
  },
  {
   "attachments": {},
   "cell_type": "markdown",
   "metadata": {},
   "source": [
    "<h4>Optional Output to Excel, JSON & CSV</h4>"
   ]
  },
  {
   "cell_type": "code",
   "execution_count": null,
   "metadata": {},
   "outputs": [],
   "source": [
    "tweet.to_excel(filename+'_'+current+'.xlsx')\n",
    "filename+'_'+current+'.html has been saved'"
   ]
  },
  {
   "cell_type": "code",
   "execution_count": null,
   "metadata": {},
   "outputs": [],
   "source": [
    "tweet.to_json(filename+'_'+current+'.json')\n",
    "filename+'_'+current+'.html has been saved'"
   ]
  },
  {
   "cell_type": "code",
   "execution_count": null,
   "metadata": {},
   "outputs": [],
   "source": [
    "tweet.to_csv(filename+'_'+current+'.csv')\n",
    "filename+'_'+current+'.html has been saved'"
   ]
  }
 ],
 "metadata": {
  "kernelspec": {
   "display_name": "Python 3",
   "language": "python",
   "name": "python3"
  },
  "language_info": {
   "codemirror_mode": {
    "name": "ipython",
    "version": 3
   },
   "file_extension": ".py",
   "mimetype": "text/x-python",
   "name": "python",
   "nbconvert_exporter": "python",
   "pygments_lexer": "ipython3",
   "version": "3.11.4"
  },
  "orig_nbformat": 4
 },
 "nbformat": 4,
 "nbformat_minor": 2
}
